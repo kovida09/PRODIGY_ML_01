{
  "nbformat": 4,
  "nbformat_minor": 0,
  "metadata": {
    "colab": {
      "provenance": [],
      "toc_visible": true
    },
    "kernelspec": {
      "name": "python3",
      "display_name": "Python 3"
    },
    "language_info": {
      "name": "python"
    }
  },
  "cells": [
    {
      "cell_type": "code",
      "execution_count": 1,
      "metadata": {
        "colab": {
          "base_uri": "https://localhost:8080/"
        },
        "id": "d-P7Ymw-BsOw",
        "outputId": "44c0556c-c26d-4b9f-f5d3-0822c61511fb"
      },
      "outputs": [
        {
          "output_type": "stream",
          "name": "stdout",
          "text": [
            "Requirement already satisfied: pandas in /usr/local/lib/python3.10/dist-packages (2.0.3)\n",
            "Requirement already satisfied: numpy in /usr/local/lib/python3.10/dist-packages (1.25.2)\n",
            "Requirement already satisfied: scikit-learn in /usr/local/lib/python3.10/dist-packages (1.2.2)\n",
            "Requirement already satisfied: python-dateutil>=2.8.2 in /usr/local/lib/python3.10/dist-packages (from pandas) (2.8.2)\n",
            "Requirement already satisfied: pytz>=2020.1 in /usr/local/lib/python3.10/dist-packages (from pandas) (2023.4)\n",
            "Requirement already satisfied: tzdata>=2022.1 in /usr/local/lib/python3.10/dist-packages (from pandas) (2024.1)\n",
            "Requirement already satisfied: scipy>=1.3.2 in /usr/local/lib/python3.10/dist-packages (from scikit-learn) (1.11.4)\n",
            "Requirement already satisfied: joblib>=1.1.1 in /usr/local/lib/python3.10/dist-packages (from scikit-learn) (1.4.2)\n",
            "Requirement already satisfied: threadpoolctl>=2.0.0 in /usr/local/lib/python3.10/dist-packages (from scikit-learn) (3.5.0)\n",
            "Requirement already satisfied: six>=1.5 in /usr/local/lib/python3.10/dist-packages (from python-dateutil>=2.8.2->pandas) (1.16.0)\n"
          ]
        }
      ],
      "source": [
        "pip install pandas numpy scikit-learn\n"
      ]
    },
    {
      "cell_type": "code",
      "source": [
        "import pandas as pd\n",
        "import numpy as np\n",
        "from sklearn.model_selection import train_test_split\n",
        "from sklearn.linear_model import LinearRegression\n",
        "from sklearn.metrics import mean_squared_error\n",
        "\n",
        "# Load the training dataset\n",
        "train_data = pd.read_csv('/content/drive/MyDrive/train.csv')\n",
        "\n",
        "# Select relevant features and target variable\n",
        "features = ['GrLivArea', 'BedroomAbvGr', 'FullBath']\n",
        "target = 'SalePrice'\n",
        "\n",
        "# Handle missing values (if any)\n",
        "train_data = train_data.dropna(subset=features + [target])\n",
        "\n",
        "# Split the data into training and validation sets\n",
        "X = train_data[features]\n",
        "y = train_data[target]\n",
        "X_train, X_val, y_train, y_val = train_test_split(X, y, test_size=0.2, random_state=42)\n",
        "\n",
        "# Train the linear regression model\n",
        "model = LinearRegression()\n",
        "model.fit(X_train, y_train)\n",
        "\n",
        "# Predict on the validation set\n",
        "y_pred = model.predict(X_val)\n",
        "\n",
        "# Evaluate the model\n",
        "mse = mean_squared_error(y_val, y_pred)\n",
        "rmse = np.sqrt(mse)\n",
        "print(f'Root Mean Squared Error on validation set: {rmse}')\n",
        "\n",
        "# Display model coefficients\n",
        "print(f'Intercept: {model.intercept_}')\n",
        "print(f'Coefficients: {model.coef_}')\n",
        "\n",
        "# Load the test dataset\n",
        "test_data = pd.read_csv('/content/drive/MyDrive/test.csv')\n",
        "\n",
        "# Select the same features from the test data\n",
        "X_test = test_data[features]\n",
        "\n",
        "# Handle missing values in test data (if any)\n",
        "X_test = X_test.fillna(X_test.mean())\n",
        "\n",
        "# Make predictions on the test data\n",
        "test_predictions = model.predict(X_test)\n",
        "\n",
        "# Prepare the submission file\n",
        "submission = pd.DataFrame({\n",
        "    'Id': test_data['Id'],\n",
        "    'SalePrice': test_predictions\n",
        "})\n",
        "\n",
        "# Save the submission file\n",
        "submission.to_csv('/content/drive/MyDrive/sample_submission.csv', index=False)\n",
        "\n",
        "print(\"Submission file created: submission.csv\")\n"
      ],
      "metadata": {
        "colab": {
          "base_uri": "https://localhost:8080/"
        },
        "id": "OiJAexqrHPeA",
        "outputId": "e8cf6b2a-1f07-4dc6-fe4c-5d62bdfbc60a"
      },
      "execution_count": 2,
      "outputs": [
        {
          "output_type": "stream",
          "name": "stdout",
          "text": [
            "Root Mean Squared Error on validation set: 52975.71771338122\n",
            "Intercept: 52261.74862694461\n",
            "Coefficients: [   104.02630701 -26655.16535734  30014.32410896]\n",
            "Submission file created: submission.csv\n"
          ]
        }
      ]
    }
  ]
}